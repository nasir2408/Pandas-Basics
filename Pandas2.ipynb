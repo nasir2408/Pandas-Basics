{
 "cells": [
  {
   "cell_type": "code",
   "execution_count": 3,
   "metadata": {},
   "outputs": [],
   "source": [
    "import pandas as pd\n",
    "df = pd.read_excel(\"D:\\Anime\\Anime\\ZImp\\my_excel.xlsx\")\n"
   ]
  },
  {
   "cell_type": "code",
   "execution_count": 4,
   "metadata": {},
   "outputs": [
    {
     "data": {
      "text/html": [
       "<div>\n",
       "<style scoped>\n",
       "    .dataframe tbody tr th:only-of-type {\n",
       "        vertical-align: middle;\n",
       "    }\n",
       "\n",
       "    .dataframe tbody tr th {\n",
       "        vertical-align: top;\n",
       "    }\n",
       "\n",
       "    .dataframe thead th {\n",
       "        text-align: right;\n",
       "    }\n",
       "</style>\n",
       "<table border=\"1\" class=\"dataframe\">\n",
       "  <thead>\n",
       "    <tr style=\"text-align: right;\">\n",
       "      <th></th>\n",
       "      <th>variable</th>\n",
       "      <th>Temperature</th>\n",
       "      <th>Precipitation Total</th>\n",
       "      <th>Wind Speed</th>\n",
       "      <th>Wind Direction</th>\n",
       "    </tr>\n",
       "  </thead>\n",
       "  <tbody>\n",
       "    <tr>\n",
       "      <th>0</th>\n",
       "      <td>2020-11-08 00:00:00</td>\n",
       "      <td>-7.241812</td>\n",
       "      <td>0.0</td>\n",
       "      <td>51.716103</td>\n",
       "      <td>28.705948</td>\n",
       "    </tr>\n",
       "    <tr>\n",
       "      <th>1</th>\n",
       "      <td>2020-11-08 01:00:00</td>\n",
       "      <td>-7.511812</td>\n",
       "      <td>0.2</td>\n",
       "      <td>52.497080</td>\n",
       "      <td>27.795135</td>\n",
       "    </tr>\n",
       "    <tr>\n",
       "      <th>2</th>\n",
       "      <td>2020-11-08 02:00:00</td>\n",
       "      <td>-7.691812</td>\n",
       "      <td>0.3</td>\n",
       "      <td>52.165226</td>\n",
       "      <td>27.095550</td>\n",
       "    </tr>\n",
       "    <tr>\n",
       "      <th>3</th>\n",
       "      <td>2020-11-08 03:00:00</td>\n",
       "      <td>-7.821812</td>\n",
       "      <td>0.4</td>\n",
       "      <td>52.022180</td>\n",
       "      <td>24.968979</td>\n",
       "    </tr>\n",
       "    <tr>\n",
       "      <th>4</th>\n",
       "      <td>2020-11-08 04:00:00</td>\n",
       "      <td>-7.931812</td>\n",
       "      <td>0.3</td>\n",
       "      <td>53.557785</td>\n",
       "      <td>22.945724</td>\n",
       "    </tr>\n",
       "    <tr>\n",
       "      <th>...</th>\n",
       "      <td>...</td>\n",
       "      <td>...</td>\n",
       "      <td>...</td>\n",
       "      <td>...</td>\n",
       "      <td>...</td>\n",
       "    </tr>\n",
       "    <tr>\n",
       "      <th>187</th>\n",
       "      <td>2020-11-15 19:00:00</td>\n",
       "      <td>-5.081812</td>\n",
       "      <td>0.0</td>\n",
       "      <td>27.067116</td>\n",
       "      <td>283.851440</td>\n",
       "    </tr>\n",
       "    <tr>\n",
       "      <th>188</th>\n",
       "      <td>2020-11-15 20:00:00</td>\n",
       "      <td>-5.891812</td>\n",
       "      <td>0.0</td>\n",
       "      <td>24.336637</td>\n",
       "      <td>277.650670</td>\n",
       "    </tr>\n",
       "    <tr>\n",
       "      <th>189</th>\n",
       "      <td>2020-11-15 21:00:00</td>\n",
       "      <td>-6.471812</td>\n",
       "      <td>0.0</td>\n",
       "      <td>22.424270</td>\n",
       "      <td>275.527530</td>\n",
       "    </tr>\n",
       "    <tr>\n",
       "      <th>190</th>\n",
       "      <td>2020-11-15 22:00:00</td>\n",
       "      <td>-7.021812</td>\n",
       "      <td>0.0</td>\n",
       "      <td>21.388970</td>\n",
       "      <td>276.766170</td>\n",
       "    </tr>\n",
       "    <tr>\n",
       "      <th>191</th>\n",
       "      <td>2020-11-15 23:00:00</td>\n",
       "      <td>-7.991812</td>\n",
       "      <td>0.0</td>\n",
       "      <td>20.124610</td>\n",
       "      <td>280.304870</td>\n",
       "    </tr>\n",
       "  </tbody>\n",
       "</table>\n",
       "<p>192 rows × 5 columns</p>\n",
       "</div>"
      ],
      "text/plain": [
       "               variable  Temperature  Precipitation Total  Wind Speed  \\\n",
       "0   2020-11-08 00:00:00    -7.241812                  0.0   51.716103   \n",
       "1   2020-11-08 01:00:00    -7.511812                  0.2   52.497080   \n",
       "2   2020-11-08 02:00:00    -7.691812                  0.3   52.165226   \n",
       "3   2020-11-08 03:00:00    -7.821812                  0.4   52.022180   \n",
       "4   2020-11-08 04:00:00    -7.931812                  0.3   53.557785   \n",
       "..                  ...          ...                  ...         ...   \n",
       "187 2020-11-15 19:00:00    -5.081812                  0.0   27.067116   \n",
       "188 2020-11-15 20:00:00    -5.891812                  0.0   24.336637   \n",
       "189 2020-11-15 21:00:00    -6.471812                  0.0   22.424270   \n",
       "190 2020-11-15 22:00:00    -7.021812                  0.0   21.388970   \n",
       "191 2020-11-15 23:00:00    -7.991812                  0.0   20.124610   \n",
       "\n",
       "     Wind Direction  \n",
       "0         28.705948  \n",
       "1         27.795135  \n",
       "2         27.095550  \n",
       "3         24.968979  \n",
       "4         22.945724  \n",
       "..              ...  \n",
       "187      283.851440  \n",
       "188      277.650670  \n",
       "189      275.527530  \n",
       "190      276.766170  \n",
       "191      280.304870  \n",
       "\n",
       "[192 rows x 5 columns]"
      ]
     },
     "execution_count": 4,
     "metadata": {},
     "output_type": "execute_result"
    }
   ],
   "source": [
    "df\n"
   ]
  },
  {
   "cell_type": "code",
   "execution_count": 8,
   "metadata": {},
   "outputs": [],
   "source": [
    "df=df['Temperature'].drop"
   ]
  },
  {
   "cell_type": "code",
   "execution_count": 9,
   "metadata": {},
   "outputs": [
    {
     "data": {
      "text/plain": [
       "<bound method Series.drop of 0     -7.241812\n",
       "1     -7.511812\n",
       "2     -7.691812\n",
       "3     -7.821812\n",
       "4     -7.931812\n",
       "         ...   \n",
       "187   -5.081812\n",
       "188   -5.891812\n",
       "189   -6.471812\n",
       "190   -7.021812\n",
       "191   -7.991812\n",
       "Name: Temperature, Length: 192, dtype: float64>"
      ]
     },
     "execution_count": 9,
     "metadata": {},
     "output_type": "execute_result"
    }
   ],
   "source": [
    "df"
   ]
  },
  {
   "cell_type": "code",
   "execution_count": 10,
   "metadata": {},
   "outputs": [
    {
     "data": {
      "text/plain": [
       "<bound method Series.drop of 0     -7.241812\n",
       "1     -7.511812\n",
       "2     -7.691812\n",
       "3     -7.821812\n",
       "4     -7.931812\n",
       "         ...   \n",
       "187   -5.081812\n",
       "188   -5.891812\n",
       "189   -6.471812\n",
       "190   -7.021812\n",
       "191   -7.991812\n",
       "Name: Temperature, Length: 192, dtype: float64>"
      ]
     },
     "execution_count": 10,
     "metadata": {},
     "output_type": "execute_result"
    }
   ],
   "source": [
    "df"
   ]
  },
  {
   "cell_type": "code",
   "execution_count": 1,
   "metadata": {},
   "outputs": [],
   "source": [
    "import pandas as pd\n",
    "df = pd.read_excel(\"D:\\Anime\\Anime\\ZImp\\my_excel.xlsx\")"
   ]
  },
  {
   "cell_type": "code",
   "execution_count": 2,
   "metadata": {},
   "outputs": [],
   "source": [
    "df = df['Wind Speed'].drop"
   ]
  },
  {
   "cell_type": "code",
   "execution_count": 3,
   "metadata": {},
   "outputs": [
    {
     "data": {
      "text/plain": [
       "<bound method Series.drop of 0      51.716103\n",
       "1      52.497080\n",
       "2      52.165226\n",
       "3      52.022180\n",
       "4      53.557785\n",
       "         ...    \n",
       "187    27.067116\n",
       "188    24.336637\n",
       "189    22.424270\n",
       "190    21.388970\n",
       "191    20.124610\n",
       "Name: Wind Speed, Length: 192, dtype: float64>"
      ]
     },
     "execution_count": 3,
     "metadata": {},
     "output_type": "execute_result"
    }
   ],
   "source": [
    "df\n"
   ]
  },
  {
   "cell_type": "code",
   "execution_count": null,
   "metadata": {},
   "outputs": [],
   "source": [
    "df.d"
   ]
  }
 ],
 "metadata": {
  "kernelspec": {
   "display_name": "Python 3",
   "language": "python",
   "name": "python3"
  },
  "language_info": {
   "codemirror_mode": {
    "name": "ipython",
    "version": 3
   },
   "file_extension": ".py",
   "mimetype": "text/x-python",
   "name": "python",
   "nbconvert_exporter": "python",
   "pygments_lexer": "ipython3",
   "version": "3.8.3"
  }
 },
 "nbformat": 4,
 "nbformat_minor": 4
}
